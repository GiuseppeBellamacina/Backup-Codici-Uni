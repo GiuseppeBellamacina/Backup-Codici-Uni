{
 "cells": [
  {
   "cell_type": "markdown",
   "metadata": {},
   "source": [
    "<h1> Esercizio n° 1 </h1>"
   ]
  },
  {
   "cell_type": "markdown",
   "metadata": {},
   "source": [
    " E noto che il numero di pezzi guasti fabbricati in una giornata di lavoro di una catena di produzione\n",
    " A segue una distribuzione di Poisson di media 2.\n",
    " 1. Qual è la probabilità che in un giorno siano stati prodotti esattamente 3 pezzi guasti?\n",
    " 2. Qual è la probabilità che in un giorno siano stati prodotti tra 2 e 5 pezzi guasti (estremi inclusi)?\n",
    " \n",
    " Si mette in opera una nuova catena di produzione B. E' noto che il numero di pezzi guasti fabbricati\n",
    " in una giornata di lavoro mediante B segue una distribuzione di Poisson di media 1.5.\n",
    " \n",
    " 3. Si trovi la legge della variabile aleatoria che conta complessivemente il numero di pezzi guasti\n",
    " prodotti (ciè provenienti indifferentemente da A o da B) e si calcoli la sua media e la sua\n",
    " varianza.\n",
    " 4. Qual è la probabilità che in un giorno siano stati prodotti complessivamente un numero di pezzi\n",
    " guasti compreso tra 3 e 6 (estremi inclusi)?"
   ]
  },
  {
   "cell_type": "code",
   "execution_count": 31,
   "metadata": {},
   "outputs": [],
   "source": [
    "from scipy.stats import poisson"
   ]
  },
  {
   "cell_type": "code",
   "execution_count": 32,
   "metadata": {},
   "outputs": [
    {
     "name": "stdout",
     "output_type": "stream",
     "text": [
      "0.18044704431548356\n"
     ]
    }
   ],
   "source": [
    "# 1\n",
    "lambdaA = 2\n",
    "p1 = poisson.pmf(3, lambdaA)\n",
    "print(p1)"
   ]
  },
  {
   "cell_type": "code",
   "execution_count": 33,
   "metadata": {},
   "outputs": [
    {
     "name": "stdout",
     "output_type": "stream",
     "text": [
      "0.5774305418095474\n"
     ]
    }
   ],
   "source": [
    "# 2\n",
    "p2 = sum([poisson.pmf(i, lambdaA) for i in range(2, 6)])\n",
    "print(p2)"
   ]
  },
  {
   "cell_type": "markdown",
   "metadata": {},
   "source": [
    "A ~ Poisson(2)\n",
    "\n",
    "B ~ Poisson(1.5)\n",
    "\n",
    "A + B ~ Poisson(3.5)"
   ]
  },
  {
   "cell_type": "code",
   "execution_count": 34,
   "metadata": {},
   "outputs": [
    {
     "name": "stdout",
     "output_type": "stream",
     "text": [
      "Media complessiva:  3.5\n",
      "Varianza complessiva:  3.5\n"
     ]
    }
   ],
   "source": [
    "# 3\n",
    "lambdaB = 1.5\n",
    "lambdaAB = lambdaA + lambdaB\n",
    "print(\"Media complessiva: \", lambdaAB)\n",
    "print(\"Varianza complessiva: \", lambdaAB)"
   ]
  },
  {
   "cell_type": "code",
   "execution_count": 35,
   "metadata": {},
   "outputs": [
    {
     "name": "stdout",
     "output_type": "stream",
     "text": [
      "0.6138647041089124\n"
     ]
    }
   ],
   "source": [
    "# 4\n",
    "p3 = sum([poisson.pmf(i, lambdaAB) for i in range(3, 7)])\n",
    "print(p3)"
   ]
  },
  {
   "cell_type": "markdown",
   "metadata": {},
   "source": [
    "<h1> Esercizio n° 2 </h1>"
   ]
  },
  {
   "cell_type": "markdown",
   "metadata": {},
   "source": [
    "Il contenuto di sodio (in milligrammi) di 30 scatole di cereali è riportato di seguito\n",
    " 131.15, 130.69, 130.91, 129.54, 129.64, 128.77, 130.72,\n",
    " 128.33, 128.24, 129.65, 130.14, 129.29, 128.71, 129.00, 129.39,\n",
    " 130.42, 129.53, 130.12, 129.78, 130.92, 131.15, 130.69, 130.91,\n",
    " 129.54, 129.64, 128.77, 130.72, 128.33, 128.24, 129.65.\n",
    "\n",
    " 1. Si calcoli la media campionaria, la deviazione standard e l’intervallo di confidenza per la media\n",
    " con livello di fiducia 0.01.\n",
    " 2. Rappresentare graficamente i dati mediante un istogramma e mediante un box-plot.\n",
    " 3. Si testi l’ipotesi che il contenuto medio di sodio sia di 130 mg utilizzando α = 0.05. Si calcoli il\n",
    " p-value del test precedente.\n",
    " 4. E' possibile affermare che il contenuto di sodio è distribuito normalmente nelle scatole? Giustificare la risposta."
   ]
  },
  {
   "cell_type": "code",
   "execution_count": 36,
   "metadata": {},
   "outputs": [],
   "source": [
    "import numpy as np\n",
    "import matplotlib.pyplot as plt\n",
    "from scipy.stats import norm, t, probplot"
   ]
  },
  {
   "cell_type": "code",
   "execution_count": 37,
   "metadata": {},
   "outputs": [
    {
     "name": "stdout",
     "output_type": "stream",
     "text": [
      "Media:  129.75266666666664\n",
      "Deviazione standard:  0.9137393258230427\n",
      "Intervallo di confidenza al 99%: (129.3229533932202, 130.1823799401131)\n",
      "Intervallo di confidenza al 99%: (129.29283199986014, 130.21250133347314)\n"
     ]
    }
   ],
   "source": [
    "# 1\n",
    "dati = np.array([131.15, 130.69, 130.91, 129.54, 129.64, 128.77, 130.72,\n",
    "                 128.33, 128.24, 129.65, 130.14, 129.29, 128.71, 129.00, 129.39,\n",
    "                 130.42, 129.53, 130.12, 129.78, 130.92, 131.15, 130.69, 130.91,\n",
    "                 129.54, 129.64, 128.77, 130.72, 128.33, 128.24, 129.65])\n",
    "\n",
    "media = np.mean(dati)\n",
    "dev = np.std(dati)\n",
    "\n",
    "print(\"Media: \", media)\n",
    "print(\"Deviazione standard: \", dev)\n",
    "\n",
    "# Intervallo di confidenza al 99%\n",
    "alpha = 0.01\n",
    "\n",
    "def conf_int(media, dev, n, alpha):\n",
    "    phi = norm.ppf(1 - alpha / 2)\n",
    "    lower = media - (dev / np.sqrt(n)) * phi\n",
    "    upper = media + (dev / np.sqrt(n)) * phi\n",
    "    return lower, upper\n",
    "\n",
    "def conf_int_t(media, dev, n, alpha):\n",
    "    t_alpha = t.ppf(1 - alpha / 2, n - 1)\n",
    "    lower = media - (dev / np.sqrt(n)) * t_alpha\n",
    "    upper = media + (dev / np.sqrt(n)) * t_alpha\n",
    "    return lower, upper\n",
    "\n",
    "n = len(dati)\n",
    "lower, upper = conf_int(media, dev, n, alpha)\n",
    "print(f\"Intervallo di confidenza al 99%: ({lower}, {upper})\")\n",
    "\n",
    "lower, upper = conf_int_t(media, dev, n, alpha)\n",
    "print(f\"Intervallo di confidenza al 99%: ({lower}, {upper})\")"
   ]
  },
  {
   "cell_type": "code",
   "execution_count": 38,
   "metadata": {},
   "outputs": [
    {
     "data": {
      "image/png": "[encoded data removed]",
      "text/plain": [
       "<Figure size 640x480 with 1 Axes>"
      ]
     },
     "metadata": {},
     "output_type": "display_data"
    },
    {
     "data": {
      "image/png": "[encoded data removed]",
      "text/plain": [
       "<Figure size 640x480 with 1 Axes>"
      ]
     },
     "metadata": {},
     "output_type": "display_data"
    }
   ],
   "source": [
    "# 2\n",
    "\n",
    "# Istogramma\n",
    "plt.hist(dati, bins=10, edgecolor='black')\n",
    "plt.title('Istogramma del contenuto di sodio')\n",
    "plt.xlabel('Contenuto di sodio (mg)')\n",
    "plt.ylabel('Frequenza')\n",
    "plt.show()\n",
    "\n",
    "# Box plot\n",
    "plt.boxplot(dati)\n",
    "plt.title('Box plot del contenuto di sodio')\n",
    "plt.ylabel('Contenuto di sodio (mg)')\n",
    "plt.show()"
   ]
  },
  {
   "cell_type": "code",
   "execution_count": 39,
   "metadata": {},
   "outputs": [
    {
     "name": "stdout",
     "output_type": "stream",
     "text": [
      "Accetto H0: la media è 130\n",
      "Accetto H0: la media è 130\n",
      "P-value:  0.050000000000000044\n"
     ]
    }
   ],
   "source": [
    "# 3\n",
    "# Test di ipotesi (sulla media)\n",
    "# H0: mu = 130\n",
    "# H1: mu <> 130\n",
    "\n",
    "mu0 = 130\n",
    "alpha = 0.05\n",
    "phi = norm.ppf(1 - alpha / 2)\n",
    "\n",
    "def z_test(media, dev, mu0, n, phi):\n",
    "    z = phi * (dev / np.sqrt(n))\n",
    "    z1 = mu0 - z\n",
    "    z2 = mu0 + z\n",
    "    if media < z1 or media > z2:\n",
    "        return True\n",
    "    \n",
    "def t_test(media, dev, mu0, n):\n",
    "    T = (media - mu0) / dev * np.sqrt(n)\n",
    "    if abs(T) > t.ppf(1 - alpha / 2, n - 1):\n",
    "        return True\n",
    "\n",
    "if z_test(media, dev, mu0, n, phi):\n",
    "    print(\"Rigetto H0: la media non è 130\")\n",
    "else:\n",
    "    print(\"Accetto H0: la media è 130\")\n",
    "\n",
    "if t_test(media, dev, mu0, n):\n",
    "    print(\"Rigetto H0: la media non è 130\")\n",
    "else:\n",
    "    print(\"Accetto H0: la media è 130\")\n",
    "    \n",
    "# P-value\n",
    "Z0 = np.abs(norm.ppf(1 - alpha / 2))\n",
    "p_value = 2 * (1 - norm.cdf(Z0))\n",
    "print(\"P-value: \", p_value)"
   ]
  },
  {
   "cell_type": "code",
   "execution_count": 40,
   "metadata": {},
   "outputs": [
    {
     "data": {
      "image/png": "[encoded data removed]",
      "text/plain": [
       "<Figure size 640x480 with 1 Axes>"
      ]
     },
     "metadata": {},
     "output_type": "display_data"
    }
   ],
   "source": [
    "# 4\n",
    "probplot(dati, dist=norm, plot=plt)\n",
    "plt.show()"
   ]
  },
  {
   "cell_type": "markdown",
   "metadata": {},
   "source": [
    "I dati non seguono una distribuzione normale."
   ]
  },
  {
   "cell_type": "markdown",
   "metadata": {},
   "source": [
    "<h1>Eserecizio n°3</h1>"
   ]
  },
  {
   "cell_type": "markdown",
   "metadata": {},
   "source": [
    "Si consideri la catena di Markov sui vertici di un triangolo equilatero definita come segue. Ad ogni\n",
    "istante ci si puo' spostare da un vertice a quello adiacente in senso orario con probabilità p e in senso\n",
    "antiorario con probabilità 1 − p, con 0 < p < 1.\n",
    "<ol>\n",
    "    <li>Determinare la matrice di transizione.</li>\n",
    "    <li>Fissato p = 1/3 mostrare che la catena è regolare.</li>\n",
    "    <li>Fissato p = 1/3 determinare la distribuzione stazionaria.</li>\n",
    "    <li>Indicato con E = {1,2,3} l’insieme degli stati, determinare il valore di p per cui la distribuzione\n",
    " uniforme su E sia reversibile.</li>\n",
    "</ol>"
   ]
  },
  {
   "cell_type": "code",
   "execution_count": 41,
   "metadata": {},
   "outputs": [
    {
     "name": "stdout",
     "output_type": "stream",
     "text": [
      "Matrice di transizione\n",
      " [[0.         0.66666667 0.33333333]\n",
      " [0.33333333 0.         0.66666667]\n",
      " [0.66666667 0.33333333 0.        ]]\n",
      "P^2\n",
      " [[0.44444444 0.11111111 0.44444444]\n",
      " [0.44444444 0.44444444 0.11111111]\n",
      " [0.11111111 0.44444444 0.44444444]]\n"
     ]
    }
   ],
   "source": [
    "# 1\n",
    "\n",
    "def transition_matrix(p):\n",
    "    return np.array([[0, 1-p, p],\n",
    "                     [p, 0, 1-p],\n",
    "                     [1-p, p, 0]])\n",
    "\n",
    "# 2\n",
    "\n",
    "p = 1/3\n",
    "P = transition_matrix(p)\n",
    "\n",
    "print(\"Matrice di transizione\\n\", P)\n",
    "print(\"P^2\\n\", np.dot(P, P))\n",
    "# é regolare perchè P^2 ha tutti i valori > 0"
   ]
  },
  {
   "cell_type": "code",
   "execution_count": 47,
   "metadata": {},
   "outputs": [
    {
     "name": "stdout",
     "output_type": "stream",
     "text": [
      "Autovalori\n",
      " [ 1. +0.j         -0.5+0.28867513j -0.5-0.28867513j]\n",
      "Autovettori\n",
      " [[ 0.57735027+0.j  -0.57735027+0.j  -0.57735027-0.j ]\n",
      " [ 0.57735027+0.j   0.28867513+0.5j  0.28867513-0.5j]\n",
      " [ 0.57735027+0.j   0.28867513-0.5j  0.28867513+0.5j]]\n",
      "Distribuzione stazionaria\n",
      " [0.33333333 0.33333333 0.33333333]\n",
      "Distribuzione stazionaria\n",
      "[0.33296 0.33428 0.33277] \n",
      "\n"
     ]
    }
   ],
   "source": [
    "# 3\n",
    "# Distribuzione stazionaria con metodo analitico\n",
    "\n",
    "lam, V = np.linalg.eig(P.T)\n",
    "print(\"Autovalori\\n\", lam)\n",
    "print(\"Autovettori\\n\", V)\n",
    "\n",
    "ind = np.argmax(lam)\n",
    "pi = np.real(V[:, ind]) / np.sum(np.real(V[:, ind]))\n",
    "print(\"Distribuzione stazionaria\\n\", pi)\n",
    "\n",
    "# Distribuzione stazionaria con metodo Monte Carlo\n",
    "\n",
    "n = 3\n",
    "F = np.zeros(n)\n",
    "N = 10**5\n",
    "\n",
    "j = np.random.randint(n)\n",
    "F[j] = 1\n",
    "\n",
    "for i in range(N):\n",
    "    j_multi = np.random.multinomial(1,P[j,:])\n",
    "    j = np.nonzero(j_multi)[0][0]\n",
    "    F[j] += 1\n",
    "\n",
    "vv = F / N\n",
    "print(\"Distribuzione stazionaria\")\n",
    "print(vv, \"\\n\")"
   ]
  },
  {
   "cell_type": "code",
   "execution_count": 43,
   "metadata": {},
   "outputs": [
    {
     "name": "stdout",
     "output_type": "stream",
     "text": [
      "p =  0.5\n"
     ]
    }
   ],
   "source": [
    "# 4\n",
    "\n",
    "# Devo calcolare p tale che\n",
    "# PIi Pij = PIj Pji\n",
    "# 1/3 * p = 1/3 * (1-p)\n",
    "\n",
    "p = 1/2\n",
    "print(\"p = \", p)"
   ]
  }
 ],
 "metadata": {
  "kernelspec": {
   "display_name": "base",
   "language": "python",
   "name": "python3"
  },
  "language_info": {
   "codemirror_mode": {
    "name": "ipython",
    "version": 3
   },
   "file_extension": ".py",
   "mimetype": "text/x-python",
   "name": "python",
   "nbconvert_exporter": "python",
   "pygments_lexer": "ipython3",
   "version": "3.11.7"
  }
 },
 "nbformat": 4,
 "nbformat_minor": 2
}
