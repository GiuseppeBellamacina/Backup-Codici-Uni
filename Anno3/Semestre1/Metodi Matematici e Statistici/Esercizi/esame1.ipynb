{
 "cells": [
  {
   "cell_type": "markdown",
   "metadata": {},
   "source": [
    "<h1>Esercizio n°1</h1>\n"
   ]
  },
  {
   "cell_type": "markdown",
   "metadata": {},
   "source": [
    "Il tempo di vita di un dispositivo meccanico sottoposto a vibrazioni durante un test segue una\n",
    "distribuzione esponenziale con media 400 ore.\n",
    "<ol>\n",
    "    <li>Qual è la probabilità che il dispositivo fallisca il test in meno di 100 ore?</li>\n",
    "    <li>Qual è la probabilità che il dispositivo operi per più di 500 ore prima di rompersi?</li>\n",
    "    <li>Sapendo che il dispositivo ha operato per 400 ore senza fallire il test, qual è la probabilità che\n",
    " fallisca nelle prossime 100 ore?</li>\n",
    "    <li>Quante ore di funzionamento sono necessarie per affermare che il dispositivo fallisca il test con\n",
    " probabilità superiore al 95%?</li>\n",
    "</ol>"
   ]
  },
  {
   "cell_type": "code",
   "execution_count": 132,
   "metadata": {},
   "outputs": [],
   "source": [
    "import numpy as np\n",
    "from scipy.stats import expon"
   ]
  },
  {
   "cell_type": "code",
   "execution_count": 133,
   "metadata": {},
   "outputs": [
    {
     "name": "stdout",
     "output_type": "stream",
     "text": [
      "0.22119921692859512\n",
      "0.22119921692859515\n"
     ]
    }
   ],
   "source": [
    "# 1\n",
    "media = 400\n",
    "lambd = 1/media\n",
    "\n",
    "# cdf: P(X <= x)\n",
    "# sf: P(X > x)\n",
    "\n",
    "x = 100\n",
    "p1 = 1 - np.exp((-lambd)*x)\n",
    "print(p1)\n",
    "p1 = expon.cdf(x, scale=media)\n",
    "print(p1)"
   ]
  },
  {
   "cell_type": "code",
   "execution_count": 134,
   "metadata": {},
   "outputs": [
    {
     "name": "stdout",
     "output_type": "stream",
     "text": [
      "0.2865047968601901\n",
      "0.28650479686019015\n",
      "0.2865047968601901\n"
     ]
    }
   ],
   "source": [
    "# 2\n",
    "x = 500\n",
    "p2 = np.exp(-lambd*x)\n",
    "print(p2)\n",
    "p2 = 1 -(1 - np.exp((-lambd)*x))\n",
    "# 1 - cdf = sf\n",
    "print(p2)\n",
    "p2 = expon.sf(x, scale=media)\n",
    "print(p2)"
   ]
  },
  {
   "cell_type": "code",
   "execution_count": 135,
   "metadata": {},
   "outputs": [
    {
     "name": "stdout",
     "output_type": "stream",
     "text": [
      "0.7788007830714049\n"
     ]
    }
   ],
   "source": [
    "# 3\n",
    "# x = 400\n",
    "r = 100\n",
    "# P(X > x + r) = P(X > r) per la proprieta della mancanza memoria\n",
    "\n",
    "p3 = expon.sf(r, scale=media)\n",
    "print(p3)"
   ]
  },
  {
   "cell_type": "code",
   "execution_count": 136,
   "metadata": {},
   "outputs": [
    {
     "name": "stdout",
     "output_type": "stream",
     "text": [
      "1198.4000000000055\n"
     ]
    }
   ],
   "source": [
    "# 4 # Soluzione ideata dal Malefico e da Ryan\n",
    "p0 = 0.95\n",
    "p = -np.inf\n",
    "x = 0\n",
    "\n",
    "while p < p0:\n",
    "    p = expon.cdf(x, scale=media) # ©\n",
    "    x += 0.1\n",
    "print(x)"
   ]
  },
  {
   "cell_type": "markdown",
   "metadata": {},
   "source": [
    "<h1>Esercizio n°2</h1>"
   ]
  },
  {
   "cell_type": "markdown",
   "metadata": {},
   "source": [
    "Si ritiene che i grammi di solidi rimossi da un materiale (y) siano correlati al tempo di asciugatura\n",
    "(x) espresso in ore. Da uno studio sperimentale si ottengono le 10 misurazioni riportate nella seguente tabella.\n",
    "<table>\n",
    "    <tr>\n",
    "        <th>x</th>\n",
    "        <th>2.5</th>\n",
    "        <th>3.0</th>\n",
    "        <th>3.5</th>\n",
    "        <th>4.0</th>\n",
    "        <th>4.5</th>\n",
    "        <th>5.0</th>\n",
    "        <th>5.5</th>\n",
    "        <th>6.0</th>\n",
    "        <th>6.5</th>\n",
    "        <th>7.0</th>\n",
    "    </tr>\n",
    "    <tr>\n",
    "        <th>y</th>\n",
    "        <th>4.3</th>\n",
    "        <th>1.5</th>\n",
    "        <th>1.8</th>\n",
    "        <th>4.9</th>\n",
    "        <th>4.2</th>\n",
    "        <th>4.8</th>\n",
    "        <th>5.8</th>\n",
    "        <th>6.2</th>\n",
    "        <th>7.0</th>\n",
    "        <th>7.9</th>\n",
    "    </tr>\n",
    "</table>\n",
    "<ol>\n",
    "    <li>Si determinino i coefficienti della retta di regressione e i loro intervalli di confidenza al 95%. Si\n",
    " calcoli il coefficiente di determinazione.</li>\n",
    "    <li>Si rappresentino i dati e la retta di regressione in uno stesso grafico.</li>\n",
    "    <li>Si stimi la quantità in grammi di solidi rimossi a 4.25 ore.</li>\n",
    "    <li>Si effettui il test di indipendenza con un livello di significatività α = 0.05 commentandone l’esito.</li>\n",
    "</ol>"
   ]
  },
  {
   "cell_type": "code",
   "execution_count": 137,
   "metadata": {},
   "outputs": [
    {
     "name": "stdout",
     "output_type": "stream",
     "text": [
      "b0: -0.6987878787878854\n",
      "b1: 1.1660606060606074\n"
     ]
    }
   ],
   "source": [
    "# 1\n",
    "import matplotlib.pyplot as plt\n",
    "from scipy.stats import t, norm, probplot\n",
    "\n",
    "# y = b0 + b1*x\n",
    "\n",
    "x = np.array([2.5, 3.0, 3.5, 4.0, 4.5, 5.0, 5.5, 6.0, 6.5, 7.0])\n",
    "y = np.array([4.3, 1.5, 1.8, 4.9, 4.2, 4.8, 5.8, 6.2, 7.0, 7.9])\n",
    "\n",
    "x_bar = np.mean(x)\n",
    "y_bar = np.mean(y)\n",
    "n = len(x)\n",
    "\n",
    "sig_xy = np.sum((x * y) - (x_bar * y_bar)) / n\n",
    "sig_x2 = np.sum((x - x_bar)**2) / n\n",
    "sig_y2 = np.sum((y - y_bar)**2) / n\n",
    "\n",
    "b0 = y_bar - (sig_xy / sig_x2) * x_bar\n",
    "b1 = sig_xy / sig_x2\n",
    "\n",
    "print(\"b0:\", b0)\n",
    "print(\"b1:\", b1)"
   ]
  },
  {
   "cell_type": "code",
   "execution_count": 138,
   "metadata": {},
   "outputs": [
    {
     "name": "stdout",
     "output_type": "stream",
     "text": [
      "Intervallo di confidenza per b0:  (-3.496158603306627, 2.0985828457308564)\n",
      "Intervallo di confidenza per b1:  (0.6023426015180326, 1.729778610603182)\n"
     ]
    }
   ],
   "source": [
    "# Calcolo i residui\n",
    "y_hat = b0 + b1 * x\n",
    "r = y - y_hat\n",
    "\n",
    "s2 = np.sum(r**2) / (n - 2)\n",
    "\n",
    "alpha = 0.05\n",
    "T = t.ppf(1 - alpha/2, n - 2)\n",
    "b0_int = (b0 - np.sqrt(s2) * np.sqrt((1/n) + (x_bar**2) / (n * sig_x2)) * T, b0 + np.sqrt(s2) * np.sqrt((1/n) + (x_bar**2) / (n * sig_x2)) * T)\n",
    "b1_int = (b1 - T * np.sqrt(s2) / (np.sqrt(sig_x2 * n)), b1 + T * np.sqrt(s2) / (np.sqrt(sig_x2 * n)))\n",
    "\n",
    "print(\"Intervallo di confidenza per b0: \", b0_int)\n",
    "print(\"Intervallo di confidenza per b1: \", b1_int)"
   ]
  },
  {
   "cell_type": "code",
   "execution_count": 139,
   "metadata": {},
   "outputs": [
    {
     "name": "stdout",
     "output_type": "stream",
     "text": [
      "R2 =  0.7398627473553617\n"
     ]
    }
   ],
   "source": [
    "# Coefficiente di determinazione\n",
    "R2 = sig_xy**2 / (sig_x2*sig_y2)\n",
    "print(\"R2 = \", R2)"
   ]
  },
  {
   "cell_type": "code",
   "execution_count": 140,
   "metadata": {},
   "outputs": [
    {
     "data": {
      "image/png": "[encoded data removed]",
      "text/plain": [
       "<Figure size 640x480 with 1 Axes>"
      ]
     },
     "metadata": {},
     "output_type": "display_data"
    }
   ],
   "source": [
    "# 2\n",
    "xx = np.linspace(min(x), max(x), 100)\n",
    "yy = b0 + b1 * xx\n",
    "\n",
    "plt.plot(xx, yy, 'r')\n",
    "plt.scatter(x, y)\n",
    "plt.xlabel('x')\n",
    "plt.ylabel('y')\n",
    "plt.title('Regressione lineare')\n",
    "plt.show()"
   ]
  },
  {
   "cell_type": "code",
   "execution_count": 141,
   "metadata": {},
   "outputs": [
    {
     "name": "stdout",
     "output_type": "stream",
     "text": [
      "Stima di y per x = 4.25:  4.256969696969696\n"
     ]
    }
   ],
   "source": [
    "# 3\n",
    "x_stima = 4.25\n",
    "y_stima = b0 + b1 * x_stima\n",
    "print(\"Stima di y per x = 4.25: \", y_stima)"
   ]
  },
  {
   "cell_type": "code",
   "execution_count": 142,
   "metadata": {},
   "outputs": [
    {
     "name": "stdout",
     "output_type": "stream",
     "text": [
      "Rigetto H0\n"
     ]
    }
   ],
   "source": [
    "# 4\n",
    "# Test di indipendenza\n",
    "# H0: b1 = 0\n",
    "# H1: b1 <> 0\n",
    "\n",
    "t_test = abs(np.sqrt(n) * (b1 / np.sqrt(s2)) * np.sqrt(sig_x2))\n",
    "if t_test >= T:\n",
    "    print(\"Rigetto H0\")\n",
    "else:\n",
    "    print(\"Accetto H0\")"
   ]
  },
  {
   "cell_type": "markdown",
   "metadata": {},
   "source": [
    "<h1>Esercizio n°3</h1>"
   ]
  },
  {
   "cell_type": "markdown",
   "metadata": {},
   "source": [
    "Una variabile aleatoria X ha densità\n",
    "f(x) = -3/4x^2 + 3/2x per 0 ≤ x ≤ 2, 0 altrimenti.\n",
    "<ol>\n",
    "    <li>Decrivere e implementare un algoritmo per generare numeri pseudo-casuali con distribuzione X\n",
    " utilizzando il metodo del rigetto.</li>\n",
    "    <li>Generare numericamente 10^5 di questi numeri e costruire un istogramma. Verificare infine che\n",
    " essi seguano approssimativamente la distribuzione assegnata sovrapponendo all’istogramma il\n",
    " grafico di f(x) in [0,2].</li>\n",
    "</ol>"
   ]
  },
  {
   "cell_type": "code",
   "execution_count": 143,
   "metadata": {},
   "outputs": [
    {
     "data": {
      "image/png": "[encoded data removed]",
      "text/plain": [
       "<Figure size 640x480 with 1 Axes>"
      ]
     },
     "metadata": {},
     "output_type": "display_data"
    }
   ],
   "source": [
    "def f(x):\n",
    "    if 0 <= x and x <= 2:\n",
    "        return (-3/4) * x**2 + (3/2) * x\n",
    "    else:\n",
    "        return 0\n",
    "    \n",
    "def max_f(f, a, b):\n",
    "    x = np.linspace(a, b, 1000)\n",
    "    y = [f(i) for i in x]\n",
    "    return max(y)\n",
    "\n",
    "a = 0\n",
    "b = 2\n",
    "M = max_f(f, a, b)\n",
    "\n",
    "def rigetto(f, a, b, M, N):\n",
    "    arr = []\n",
    "    while len(arr) < N:\n",
    "        x = np.random.uniform(a, b)\n",
    "        y = np.random.uniform(0, M)\n",
    "        if 0 <= y and y <= f(x):\n",
    "            arr.append(x)\n",
    "    return arr\n",
    "\n",
    "N = 10**5\n",
    "arr = rigetto(f, a, b, M, N)\n",
    "\n",
    "xx = np.linspace(a, b, 1000)\n",
    "yy = [f(i) for i in xx]\n",
    "\n",
    "plt.plot(xx, yy, 'r')\n",
    "plt.hist(arr, bins=100, density=True)\n",
    "plt.xlabel('x')\n",
    "plt.ylabel('y')\n",
    "plt.show()"
   ]
  }
 ],
 "metadata": {
  "kernelspec": {
   "display_name": "base",
   "language": "python",
   "name": "python3"
  },
  "language_info": {
   "codemirror_mode": {
    "name": "ipython",
    "version": 3
   },
   "file_extension": ".py",
   "mimetype": "text/x-python",
   "name": "python",
   "nbconvert_exporter": "python",
   "pygments_lexer": "ipython3",
   "version": "3.11.7"
  }
 },
 "nbformat": 4,
 "nbformat_minor": 2
}
