{
 "cells": [
  {
   "cell_type": "markdown",
   "metadata": {},
   "source": [
    "<h1>Esercizio n°1</h1>"
   ]
  },
  {
   "cell_type": "code",
   "execution_count": 31,
   "metadata": {},
   "outputs": [
    {
     "name": "stdout",
     "output_type": "stream",
     "text": [
      "P(X > 230) = 0.1056\n"
     ]
    }
   ],
   "source": [
    "# 1\n",
    "\n",
    "from scipy.stats import norm\n",
    "\n",
    "media = 220\n",
    "dev = 8\n",
    "\n",
    "x = 230\n",
    "\n",
    "p1 = norm.sf(x, media, dev)\n",
    "print(f'P(X > 230) = {p1:.4f}')"
   ]
  },
  {
   "cell_type": "code",
   "execution_count": 32,
   "metadata": {},
   "outputs": [
    {
     "name": "stdout",
     "output_type": "stream",
     "text": [
      "P(210 < X < 225) = 0.6284\n"
     ]
    }
   ],
   "source": [
    "# 2\n",
    "\n",
    "x1 = 210\n",
    "x2 = 225\n",
    "\n",
    "p2 = 1 - norm.cdf(x1, media, dev) - norm.sf(x2, media, dev)\n",
    "print(f'P(210 < X < 225) = {p2:.4f}')"
   ]
  },
  {
   "cell_type": "code",
   "execution_count": 33,
   "metadata": {},
   "outputs": [
    {
     "name": "stdout",
     "output_type": "stream",
     "text": [
      "P(X > 2250) = 0.2660\n"
     ]
    }
   ],
   "source": [
    "# 3\n",
    "\n",
    "n = 10\n",
    "media *= n\n",
    "dev *= n\n",
    "\n",
    "x = 2250\n",
    "\n",
    "p3 = norm.sf(x, media, dev)\n",
    "print(f'P(X > 2250) = {p3:.4f}')"
   ]
  },
  {
   "cell_type": "markdown",
   "metadata": {},
   "source": [
    "<h1>Esercizio n°2</h1>"
   ]
  },
  {
   "cell_type": "code",
   "execution_count": 34,
   "metadata": {},
   "outputs": [
    {
     "name": "stdout",
     "output_type": "stream",
     "text": [
      "b0 = 0.4220\n",
      "b1 = -2.8778\n"
     ]
    }
   ],
   "source": [
    "# 1\n",
    "\n",
    "import numpy as np\n",
    "from scipy.stats import t\n",
    "\n",
    "x = np.array([0.25*i for i in range(1, 11)])\n",
    "y = np.array([-1.42, -1.39, -1.55, -1.89, -2.43, -3.15, -4.05, -5.15, -6.43, -7.89])\n",
    "\n",
    "n = len(x)\n",
    "x_bar = np.mean(x)\n",
    "y_bar = np.mean(y)\n",
    "sig_xy = np.sum((x - x_bar) * (y - y_bar)) / n\n",
    "sig_x2 = np.sum((x - x_bar)**2) / n\n",
    "sig_y2 = np.sum((y - y_bar)**2) / n\n",
    "\n",
    "b0 = y_bar - sig_xy / sig_x2 * x_bar\n",
    "b1 = sig_xy / sig_x2\n",
    "\n",
    "print(f'b0 = {b0:.4f}')\n",
    "print(f'b1 = {b1:.4f}')"
   ]
  },
  {
   "cell_type": "code",
   "execution_count": 35,
   "metadata": {},
   "outputs": [
    {
     "name": "stdout",
     "output_type": "stream",
     "text": [
      "Intervallo di confidenza per b0: (-0.7734, 1.6174)\n",
      "Intervallo di confidenza per b1: (-3.6485, -2.1072)\n"
     ]
    }
   ],
   "source": [
    "y_hat = b0 + b1*x\n",
    "r = y - y_hat\n",
    "\n",
    "s2 = np.sum(r**2) / (n-2)\n",
    "\n",
    "alpha = 0.05\n",
    "T = t.ppf(1-alpha/2, n-2)\n",
    "b0_int = (b0 - np.sqrt(s2)*np.sqrt(1./n + x_bar**2./(n*sig_x2))*T, b0 + np.sqrt(s2)*np.sqrt(1./n + x_bar**2./(n*sig_x2))*T)\n",
    "b1_int = (b1 - np.sqrt(s2)/np.sqrt(n*sig_x2)*T, b1 + np.sqrt(s2)/np.sqrt(n*sig_x2)*T)\n",
    "\n",
    "print(f'Intervallo di confidenza per b0: ({b0_int[0]:.4f}, {b0_int[1]:.4f})')\n",
    "print(f'Intervallo di confidenza per b1: ({b1_int[0]:.4f}, {b1_int[1]:.4f})')"
   ]
  },
  {
   "cell_type": "code",
   "execution_count": 36,
   "metadata": {},
   "outputs": [
    {
     "name": "stdout",
     "output_type": "stream",
     "text": [
      "R^2 = 0.9026\n"
     ]
    }
   ],
   "source": [
    "R2 = sig_xy**2 / (sig_x2*sig_y2)\n",
    "print(f'R^2 = {R2:.4f}')"
   ]
  },
  {
   "cell_type": "code",
   "execution_count": 37,
   "metadata": {},
   "outputs": [
    {
     "data": {
      "image/png": "[encoded data removed]",
      "text/plain": [
       "<Figure size 640x480 with 1 Axes>"
      ]
     },
     "metadata": {},
     "output_type": "display_data"
    }
   ],
   "source": [
    "# 2\n",
    "\n",
    "import matplotlib.pyplot as plt\n",
    "\n",
    "xx = np.linspace(min(x), max(x), 1000)\n",
    "yy = b0 + b1*xx\n",
    "\n",
    "plt.plot(xx, yy, 'r')\n",
    "plt.scatter(x, y)\n",
    "plt.show()"
   ]
  },
  {
   "cell_type": "code",
   "execution_count": 38,
   "metadata": {},
   "outputs": [
    {
     "name": "stdout",
     "output_type": "stream",
     "text": [
      "b0 = -1.6330\n",
      "b1 = 1.2322\n",
      "b2 = -1.4945\n"
     ]
    }
   ],
   "source": [
    "# 3\n",
    "\n",
    "X = np.zeros((n, 3))\n",
    "X[:, 0] = np.ones(n)\n",
    "X[:, 1] = x\n",
    "X[:, 2] = x**2\n",
    "\n",
    "XX = np.linalg.pinv(X)\n",
    "b = np.dot(XX, y)\n",
    "y_hat2 = np.dot(X, b)\n",
    "\n",
    "for i in range(3):\n",
    "    print(f'b{i} = {b[i]:.4f}')"
   ]
  },
  {
   "cell_type": "code",
   "execution_count": 39,
   "metadata": {},
   "outputs": [
    {
     "name": "stdout",
     "output_type": "stream",
     "text": [
      "R^2 = 1.0000\n"
     ]
    }
   ],
   "source": [
    "R22 = np.sum((y_hat2 - y_bar)**2) / np.sum((y - y_bar)**2)\n",
    "print(f'R^2 = {R22:.4f}')"
   ]
  },
  {
   "cell_type": "markdown",
   "metadata": {},
   "source": [
    "Il nuovo coefficiente di determinazione è superiore al precedente, quindi la regressione lineare multipla è migliore di quella semplice."
   ]
  },
  {
   "cell_type": "code",
   "execution_count": 40,
   "metadata": {},
   "outputs": [
    {
     "data": {
      "image/png": "[encoded data removed]",
      "text/plain": [
       "<Figure size 640x480 with 2 Axes>"
      ]
     },
     "metadata": {},
     "output_type": "display_data"
    }
   ],
   "source": [
    "fig, ax = plt.subplots(1, 2)\n",
    "ax[0].plot(x, y, 'o')\n",
    "ax[0].plot(xx, yy, 'r')\n",
    "ax[0].set_title('Regressione lineare multipla')\n",
    "\n",
    "yy2 = b[0] + b[1]*xx + b[2]*xx**2\n",
    "\n",
    "ax[1].plot(x, y, 'o')\n",
    "ax[1].plot(xx, yy2, 'r')\n",
    "ax[1].set_title('Regressione quadratica')\n",
    "plt.show()"
   ]
  },
  {
   "cell_type": "markdown",
   "metadata": {},
   "source": [
    "<h1>Esercizio n°3</h1>"
   ]
  },
  {
   "cell_type": "code",
   "execution_count": 41,
   "metadata": {},
   "outputs": [
    {
     "name": "stdout",
     "output_type": "stream",
     "text": [
      "Media = 36.8160\n",
      "Deviazione standard = 0.2734\n"
     ]
    }
   ],
   "source": [
    "# 1\n",
    "\n",
    "data = np.array([36.6, 36.2, 36.3, 36.4, 36.6, 36.6, 36.7, 36.7, 36.7, 36.7,\n",
    "                 36.8, 36.8, 36.8, 36.9, 36.9, 36.9, 36.9, 37.0, 37.0, 37.1,\n",
    "                 37.1, 37.1, 37.2, 37.2, 37.2])\n",
    "\n",
    "n = len(data)\n",
    "media = np.mean(data)\n",
    "dev = np.std(data, ddof=1)\n",
    "\n",
    "print(f'Media = {media:.4f}')\n",
    "print(f'Deviazione standard = {dev:.4f}')"
   ]
  },
  {
   "cell_type": "code",
   "execution_count": 42,
   "metadata": {},
   "outputs": [
    {
     "name": "stdout",
     "output_type": "stream",
     "text": [
      "Intervallo di confidenza al 99%: (36.6631, 36.9689)\n"
     ]
    }
   ],
   "source": [
    "def conf_int(avg, std, n, alpha):\n",
    "    df = n - 1\n",
    "    phi = t.ppf(1 - alpha/2, df)\n",
    "    lower = avg - phi * std / np.sqrt(n)\n",
    "    upper = avg + phi * std / np.sqrt(n)\n",
    "    return lower, upper\n",
    "\n",
    "alpha = 0.01\n",
    "\n",
    "lower, upper = conf_int(media, dev, n, alpha)\n",
    "\n",
    "print(f'Intervallo di confidenza al 99%: ({lower:.4f}, {upper:.4f})')"
   ]
  },
  {
   "cell_type": "code",
   "execution_count": 43,
   "metadata": {},
   "outputs": [
    {
     "name": "stdout",
     "output_type": "stream",
     "text": [
      "H0 rigettata\n"
     ]
    }
   ],
   "source": [
    "# 2\n",
    "\n",
    "mu_0 = 37\n",
    "alpha = 0.05\n",
    "\n",
    "T0 = (media - mu_0) / dev * np.sqrt(n)\n",
    "\n",
    "if abs(T0) > t.ppf(1-alpha/2, n-1):\n",
    "    print(f'H0 rigettata')\n",
    "else:\n",
    "    print(f'H0 accettata')"
   ]
  },
  {
   "cell_type": "code",
   "execution_count": 44,
   "metadata": {},
   "outputs": [
    {
     "name": "stdout",
     "output_type": "stream",
     "text": [
      "p-value = 1.9974\n"
     ]
    }
   ],
   "source": [
    "# 3\n",
    "\n",
    "p_value = 2 * (1 - t.cdf(T0, n-1))\n",
    "print(f'p-value = {p_value:.4f}')"
   ]
  },
  {
   "cell_type": "code",
   "execution_count": 45,
   "metadata": {},
   "outputs": [
    {
     "name": "stdout",
     "output_type": "stream",
     "text": [
      "n = 3338.5155\n"
     ]
    }
   ],
   "source": [
    "# 4\n",
    "\n",
    "mu = 36.8\n",
    "delta = media - mu\n",
    "potenza = 0.9\n",
    "\n",
    "n = (t.ppf(1-alpha/2, n-1) + t.ppf(potenza, n-1))**2 * dev**2 / delta**2\n",
    "\n",
    "print(f'n = {n:.4f}')"
   ]
  }
 ],
 "metadata": {
  "kernelspec": {
   "display_name": "base",
   "language": "python",
   "name": "python3"
  },
  "language_info": {
   "codemirror_mode": {
    "name": "ipython",
    "version": 3
   },
   "file_extension": ".py",
   "mimetype": "text/x-python",
   "name": "python",
   "nbconvert_exporter": "python",
   "pygments_lexer": "ipython3",
   "version": "3.11.7"
  }
 },
 "nbformat": 4,
 "nbformat_minor": 2
}
